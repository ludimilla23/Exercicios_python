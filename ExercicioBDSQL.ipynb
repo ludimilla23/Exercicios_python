{
  "nbformat": 4,
  "nbformat_minor": 0,
  "metadata": {
    "colab": {
      "provenance": [],
      "authorship_tag": "ABX9TyP0mHm4wuRjOMh3v5ZZiCJy",
      "include_colab_link": true
    },
    "kernelspec": {
      "name": "python3",
      "display_name": "Python 3"
    },
    "language_info": {
      "name": "python"
    }
  },
  "cells": [
    {
      "cell_type": "markdown",
      "metadata": {
        "id": "view-in-github",
        "colab_type": "text"
      },
      "source": [
        "<a href=\"https://colab.research.google.com/github/ludimilla23/Exercicios_python/blob/main/ExercicioBDSQL.ipynb\" target=\"_parent\"><img src=\"https://colab.research.google.com/assets/colab-badge.svg\" alt=\"Open In Colab\"/></a>"
      ]
    },
    {
      "cell_type": "code",
      "execution_count": null,
      "metadata": {
        "id": "9xrbED0jmehk"
      },
      "outputs": [],
      "source": [
        "import sqlite3\n",
        "\n",
        "# Conectar ao banco de dados (ou criar um novo)\n",
        "con = sqlite3.connect('alunos.db')\n",
        "\n",
        "# Criar um cursor para interagir com o banco de dados\n",
        "cursor = con.cursor()\n",
        "\n",
        "# Criar a tabela alunos se ela não existir\n",
        "cursor.execute('''\n",
        "CREATE TABLE IF NOT EXISTS alunos (\n",
        "    id INT PRIMARY KEY,\n",
        "    nome VARCHAR(100),\n",
        "    idade INT,\n",
        "    curso VARCHAR(100)\n",
        ")\n",
        "''')\n",
        "\n",
        "# Salvar as mudanças\n",
        "con.commit()\n",
        "\n",
        "# Executar a consulta para selecionar todos os dados da tabela alunos\n",
        "cursor.execute(\"SELECT * FROM alunos;\")\n",
        "tabela = cursor.fetchall()\n",
        "\n",
        "# Exibir os resultados\n",
        "for linha in tabela:\n",
        "    print(linha)\n",
        "\n"
      ]
    },
    {
      "cell_type": "markdown",
      "source": [
        "exercicio 2"
      ],
      "metadata": {
        "id": "w5h5ETEKoTJh"
      }
    },
    {
      "cell_type": "code",
      "source": [
        "\n",
        "cursor.execute(\"INSERT INTO alunos (id, nome, idade, curso) VALUES (1, 'João', 20, 'Engenharia');\")\n",
        "cursor.execute(\"INSERT INTO alunos (id, nome, idade, curso) VALUES (2, 'Maria', 22, 'Medicina');\")\n",
        "cursor.execute(\"INSERT INTO alunos (id, nome, idade, curso) VALUES (3, 'Pedro', 19, 'Direito');\")\n",
        "cursor.execute(\"INSERT INTO alunos (id, nome, idade, curso) VALUES (4, 'Ana', 21, 'Ciências');\")\n",
        "cursor.execute(\"INSERT INTO alunos (id, nome, idade, curso) VALUES (5, 'Lucas', 23, 'Administração');\")\n",
        "cursor.execute(\"INSERT INTO alunos (id, nome, idade, curso) VALUES (6, 'Julia', 20, 'Engenharia');\")\n",
        "\n",
        "con.commit()"
      ],
      "metadata": {
        "id": "GJdadGsyoimT"
      },
      "execution_count": null,
      "outputs": []
    },
    {
      "cell_type": "markdown",
      "source": [
        "exercicio 3"
      ],
      "metadata": {
        "id": "XTuLgkj8ow54"
      }
    },
    {
      "cell_type": "code",
      "source": [
        "#questão a)\n",
        "cursor.execute(\"SELECT * FROM alunos;\")\n",
        "tabela = cursor.fetchall()\n",
        "for linha in tabela:\n",
        "    print(linha)"
      ],
      "metadata": {
        "colab": {
          "base_uri": "https://localhost:8080/"
        },
        "id": "Dox032UrozLb",
        "outputId": "900e17f1-1e44-436a-dd65-163e8ba43022"
      },
      "execution_count": null,
      "outputs": [
        {
          "output_type": "stream",
          "name": "stdout",
          "text": [
            "(1, 'João', 20, 'Engenharia')\n",
            "(2, 'Maria', 22, 'Medicina')\n",
            "(3, 'Pedro', 19, 'Direito')\n",
            "(4, 'Ana', 21, 'Ciências')\n",
            "(5, 'Lucas', 23, 'Administração')\n",
            "(6, 'Julia', 20, 'Engenharia')\n"
          ]
        }
      ]
    },
    {
      "cell_type": "code",
      "source": [
        "#questão b)\n",
        "cursor.execute(\"SELECT nome, idade FROM alunos WHERE idade > 20;\")\n",
        "tabela = cursor.fetchall()\n",
        "for linha in tabela:\n",
        "    print(linha)"
      ],
      "metadata": {
        "colab": {
          "base_uri": "https://localhost:8080/"
        },
        "id": "NxVdUPgXo9RL",
        "outputId": "5bc4d7da-c5cb-4d6e-9ba7-3ce22328d9d6"
      },
      "execution_count": null,
      "outputs": [
        {
          "output_type": "stream",
          "name": "stdout",
          "text": [
            "('Maria', 22)\n",
            "('Ana', 21)\n",
            "('Lucas', 23)\n"
          ]
        }
      ]
    },
    {
      "cell_type": "code",
      "source": [
        "#Questão c)\n",
        "cursor.execute(\"SELECT * FROM alunos WHERE curso = 'Engenharia' ORDER BY nome\")\n",
        "tabela = cursor.fetchall()\n",
        "for linha in tabela:\n",
        "    print(linha)\n"
      ],
      "metadata": {
        "colab": {
          "base_uri": "https://localhost:8080/"
        },
        "id": "gDqimFJBpMXf",
        "outputId": "0c92e6ea-2766-4935-aa15-be6c4c6e8a88"
      },
      "execution_count": null,
      "outputs": [
        {
          "output_type": "stream",
          "name": "stdout",
          "text": [
            "(1, 'João', 20, 'Engenharia')\n",
            "(6, 'Julia', 20, 'Engenharia')\n"
          ]
        }
      ]
    },
    {
      "cell_type": "code",
      "source": [
        "#Questão d)\n",
        "cursor.execute(\"SELECT COUNT(*) FROM alunos;\")\n",
        "tabela = cursor.fetchall()\n",
        "for linha in tabela:\n",
        "    print(linha)\n"
      ],
      "metadata": {
        "colab": {
          "base_uri": "https://localhost:8080/"
        },
        "id": "WyFDDqQop9TK",
        "outputId": "b100e024-8045-41a8-c8f8-1bd102c4225f"
      },
      "execution_count": null,
      "outputs": [
        {
          "output_type": "stream",
          "name": "stdout",
          "text": [
            "(6,)\n"
          ]
        }
      ]
    },
    {
      "cell_type": "markdown",
      "source": [
        "exercicio 4"
      ],
      "metadata": {
        "id": "tbjb1gMkqJkG"
      }
    },
    {
      "cell_type": "code",
      "source": [
        "#Questão a)\n",
        "cursor.execute(\"UPDATE alunos SET idade = 21 WHERE nome = 'Maria';\")\n",
        "con.commit()"
      ],
      "metadata": {
        "id": "9iZW1g2dqMXT"
      },
      "execution_count": null,
      "outputs": []
    },
    {
      "cell_type": "code",
      "source": [
        "#Questão b)\n",
        "cursor.execute(\"DELETE FROM alunos WHERE id = 4;\")\n",
        "con.commit()"
      ],
      "metadata": {
        "id": "srpQvmKLqVKF"
      },
      "execution_count": null,
      "outputs": []
    },
    {
      "cell_type": "code",
      "source": [
        "cursor.execute(\"SELECT * FROM alunos;\")\n",
        "tabela = cursor.fetchall()\n",
        "for linha in tabela:\n",
        "    print(linha)"
      ],
      "metadata": {
        "colab": {
          "base_uri": "https://localhost:8080/"
        },
        "id": "jz4CShFXqjaf",
        "outputId": "652b47b1-e059-4c3b-d35d-8b52fb8c69ae"
      },
      "execution_count": null,
      "outputs": [
        {
          "output_type": "stream",
          "name": "stdout",
          "text": [
            "(1, 'João', 20, 'Engenharia')\n",
            "(2, 'Maria', 21, 'Medicina')\n",
            "(3, 'Pedro', 19, 'Direito')\n",
            "(5, 'Lucas', 23, 'Administração')\n",
            "(6, 'Julia', 20, 'Engenharia')\n"
          ]
        }
      ]
    },
    {
      "cell_type": "markdown",
      "source": [
        "exercicio 5"
      ],
      "metadata": {
        "id": "5HE1_LPUquG7"
      }
    },
    {
      "cell_type": "code",
      "source": [
        "cursor.execute(\"CREATE TABLE IF NOT EXISTS clientes(id INT PRIMARY KEY, nome VARCHAR(100), idade INT, saldo FLOAT)\")\n",
        "con.commit()"
      ],
      "metadata": {
        "id": "FJTkd6Puqv4w"
      },
      "execution_count": null,
      "outputs": []
    },
    {
      "cell_type": "code",
      "source": [
        "cursor.execute(\"INSERT INTO clientes (id, nome, idade, saldo) VALUES (1, 'João', 20, 100.0);\")\n",
        "cursor.execute(\"INSERT INTO clientes (id, nome, idade, saldo) VALUES (2, 'Maria', 22, 500.0);\")\n",
        "cursor.execute(\"INSERT INTO clientes (id, nome, idade, saldo) VALUES (3, 'Pedro', 19, 200.25);\")\n",
        "cursor.execute(\"INSERT INTO clientes (id, nome, idade, saldo) VALUES (4, 'Ana', 21, 800.0);\")\n",
        "cursor.execute(\"INSERT INTO clientes (id, nome, idade, saldo) VALUES (5, 'Lucas', 23, 300.0);\")\n",
        "cursor.execute(\"INSERT INTO clientes (id, nome, idade, saldo) VALUES (6, 'Julia', 20, 1200.50);\")\n",
        "con.commit()"
      ],
      "metadata": {
        "id": "KJYXvJK6rWBu"
      },
      "execution_count": null,
      "outputs": []
    },
    {
      "cell_type": "code",
      "source": [
        "cursor.execute(\"UPDATE clientes set idade = 31 WHERE nome = 'Maria';\")\n",
        "con.commit()"
      ],
      "metadata": {
        "id": "zqMCbc51r7G2"
      },
      "execution_count": null,
      "outputs": []
    },
    {
      "cell_type": "markdown",
      "source": [
        "exercicio 6"
      ],
      "metadata": {
        "id": "GPLZYdyjro9d"
      }
    },
    {
      "cell_type": "code",
      "source": [
        "#Questão a)\n",
        "cursor.execute(\"SELECT nome, idade FROM clientes WHERE idade > 30;\")\n",
        "tabela = cursor.fetchall()\n",
        "for linha in tabela:\n",
        "    print(linha)"
      ],
      "metadata": {
        "colab": {
          "base_uri": "https://localhost:8080/"
        },
        "id": "TAcslckMrqoE",
        "outputId": "5b9f561c-b5ea-4fd0-d225-a1176cf1c0c7"
      },
      "execution_count": null,
      "outputs": [
        {
          "output_type": "stream",
          "name": "stdout",
          "text": [
            "('Maria', 31)\n"
          ]
        }
      ]
    },
    {
      "cell_type": "code",
      "source": [
        "#Questão b)\n",
        "cursor.execute(\"SELECT AVG(saldo) AS saldo_medio FROM clientes;\")\n",
        "saldo_medio = cursor.fetchone()[0]\n",
        "print(f\"O saldo médio dos clientes é: {saldo_medio}\")"
      ],
      "metadata": {
        "colab": {
          "base_uri": "https://localhost:8080/"
        },
        "id": "maqAysWJsLmW",
        "outputId": "f51846d5-b20e-418b-93fa-6e5fdeebcffc"
      },
      "execution_count": null,
      "outputs": [
        {
          "output_type": "stream",
          "name": "stdout",
          "text": [
            "O saldo médio dos clientes é: 516.7916666666666\n"
          ]
        }
      ]
    },
    {
      "cell_type": "code",
      "source": [
        "#Questão c)\n",
        "cursor.execute(\"SELECT MAX(saldo), nome AS saldo_max FROM clientes;\")\n",
        "tabela = cursor.fetchall()\n",
        "for linha in tabela:\n",
        "    print(linha)"
      ],
      "metadata": {
        "colab": {
          "base_uri": "https://localhost:8080/"
        },
        "id": "M3ieeWWEtMSG",
        "outputId": "c5ffdad5-c80f-4076-a477-ea31c7f930ee"
      },
      "execution_count": null,
      "outputs": [
        {
          "output_type": "stream",
          "name": "stdout",
          "text": [
            "(1200.5, 'Julia')\n"
          ]
        }
      ]
    },
    {
      "cell_type": "code",
      "source": [
        "#Questão d)\n",
        "cursor.execute(\"SELECT COUNT(*) FROM clientes WHERE saldo > 1000;\")\n",
        "tabela = cursor.fetchall()\n",
        "for linha in tabela:\n",
        "    print(linha)\n"
      ],
      "metadata": {
        "colab": {
          "base_uri": "https://localhost:8080/"
        },
        "id": "ik1ucesrtwGa",
        "outputId": "26688155-64c9-41bc-aa65-f01c3982ea63"
      },
      "execution_count": null,
      "outputs": [
        {
          "output_type": "stream",
          "name": "stdout",
          "text": [
            "(1,)\n"
          ]
        }
      ]
    },
    {
      "cell_type": "markdown",
      "source": [
        "exercicio 7"
      ],
      "metadata": {
        "id": "jjC2jj-vumAM"
      }
    },
    {
      "cell_type": "code",
      "source": [
        "#Questão a)\n",
        "cursor.execute(\"UPDATE clientes set saldo = 950 WHERE id = 4;\")\n",
        "con.commit()\n",
        "#Questão b)\n",
        "cursor.execute(\"DELETE FROM clientes WHERE id = 2;\")\n",
        "con.commit()\n",
        "\n",
        "cursor.execute(\"SELECT * FROM clientes;\")\n",
        "tabela = cursor.fetchall()\n",
        "for linha in tabela:\n",
        "    print(linha)\n"
      ],
      "metadata": {
        "colab": {
          "base_uri": "https://localhost:8080/"
        },
        "id": "tbeHo730upc3",
        "outputId": "bcef5765-2b71-4be2-8595-5dd20b6539e5"
      },
      "execution_count": null,
      "outputs": [
        {
          "output_type": "stream",
          "name": "stdout",
          "text": [
            "(1, 'João', 20, 100.0)\n",
            "(3, 'Pedro', 19, 200.25)\n",
            "(4, 'Ana', 21, 950.0)\n",
            "(5, 'Lucas', 23, 300.0)\n",
            "(6, 'Julia', 20, 1200.5)\n"
          ]
        }
      ]
    },
    {
      "cell_type": "markdown",
      "source": [
        "exercicio 8"
      ],
      "metadata": {
        "id": "Z48HmkJ4vSgj"
      }
    },
    {
      "cell_type": "code",
      "source": [
        "cursor.execute(\"CREATE TABLE IF NOT EXISTS compras(id INT PRIMARY KEY, cliente_id INT, produto VARCHAR(100), valor FLOAT, FOREIGN KEY (cliente_id) REFERENCES clientes(id))\")\n",
        "cursor.execute(\"INSERT INTO compras (id, cliente_id, produto, valor) VALUES (1, 1, 'Camiseta', 25.0);\")\n",
        "cursor.execute(\"INSERT INTO compras (id, cliente_id, produto, valor) VALUES (5, 5, 'Calça', 50.0);\")\n",
        "cursor.execute(\"INSERT INTO compras (id, cliente_id, produto, valor) VALUES (3, 3, 'Tênis', 100.0);\")\n",
        "cursor.execute(\"INSERT INTO compras (id, cliente_id, produto, valor) VALUES (4, 4, 'Sapato', 75.0);\")\n",
        "con.commit()\n"
      ],
      "metadata": {
        "id": "huAPABT0vTrl"
      },
      "execution_count": null,
      "outputs": []
    },
    {
      "cell_type": "code",
      "source": [
        "cursor.execute('''SELECT clientes.nome, compras.produto, compras.valor\n",
        "FROM compras\n",
        "JOIN clientes ON compras.cliente_id = clientes.id\n",
        "''')\n",
        "tabela = cursor.fetchall()\n",
        "for linha in tabela:\n",
        "    print(linha)\n"
      ],
      "metadata": {
        "colab": {
          "base_uri": "https://localhost:8080/"
        },
        "id": "2FREVa_lw-Y8",
        "outputId": "3dbc2872-9bf3-4750-b026-45470cf46eb8"
      },
      "execution_count": null,
      "outputs": [
        {
          "output_type": "stream",
          "name": "stdout",
          "text": [
            "('João', 'Camiseta', 25.0)\n",
            "('Lucas', 'Calça', 50.0)\n",
            "('Pedro', 'Tênis', 100.0)\n",
            "('Ana', 'Sapato', 75.0)\n"
          ]
        }
      ]
    },
    {
      "cell_type": "code",
      "source": [
        "con.close()\n"
      ],
      "metadata": {
        "id": "0nwEh4ePzJmB"
      },
      "execution_count": null,
      "outputs": []
    }
  ]
}